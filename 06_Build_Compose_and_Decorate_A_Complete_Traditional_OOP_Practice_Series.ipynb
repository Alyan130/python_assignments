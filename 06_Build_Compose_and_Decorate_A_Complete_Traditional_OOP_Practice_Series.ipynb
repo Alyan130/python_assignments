{
  "nbformat": 4,
  "nbformat_minor": 0,
  "metadata": {
    "colab": {
      "provenance": [],
      "authorship_tag": "ABX9TyNXdyJTe9imYXlU1fPvEaZm",
      "include_colab_link": true
    },
    "kernelspec": {
      "name": "python3",
      "display_name": "Python 3"
    },
    "language_info": {
      "name": "python"
    }
  },
  "cells": [
    {
      "cell_type": "markdown",
      "metadata": {
        "id": "view-in-github",
        "colab_type": "text"
      },
      "source": [
        "<a href=\"https://colab.research.google.com/github/Alyan130/python_assignments/blob/main/06_Build_Compose_and_Decorate_A_Complete_Traditional_OOP_Practice_Series.ipynb\" target=\"_parent\"><img src=\"https://colab.research.google.com/assets/colab-badge.svg\" alt=\"Open In Colab\"/></a>"
      ]
    },
    {
      "cell_type": "markdown",
      "source": [
        "**1) Use Self**"
      ],
      "metadata": {
        "id": "zmQUhUYoYosB"
      }
    },
    {
      "cell_type": "code",
      "execution_count": null,
      "metadata": {
        "colab": {
          "base_uri": "https://localhost:8080/"
        },
        "id": "AmuCHR9BYb-c",
        "outputId": "e11077c2-4da4-4dfd-f8ae-e4eae6e1b398"
      },
      "outputs": [
        {
          "output_type": "stream",
          "name": "stdout",
          "text": [
            "Student Info:\n",
            "Name : Alyan\n",
            "Marks : 25\n"
          ]
        }
      ],
      "source": [
        "class Student:\n",
        "   def __init__(self,name,marks):\n",
        "      self.name=name\n",
        "      self.marks=marks\n",
        "\n",
        "   def display(self):\n",
        "       print(f\"Student Info:\\nName : {self.name}\\nMarks : {self.marks}\")\n",
        "\n",
        "\n",
        "stud=Student(\"Alyan\",25)\n",
        "stud.display()"
      ]
    },
    {
      "cell_type": "markdown",
      "source": [
        "**2. Using cls**"
      ],
      "metadata": {
        "id": "UTvhcpJLaWlK"
      }
    },
    {
      "cell_type": "code",
      "source": [
        "class Counter:\n",
        "  count=0\n",
        "  def __init__(self):\n",
        "   Counter.count+=1\n",
        "\n",
        "  @classmethod\n",
        "  def track_object(cls):\n",
        "    print(\"Object created {} times\".format(cls.count))\n",
        "\n",
        "\n",
        "obj = Counter()\n",
        "obj = Counter()\n",
        "obj = Counter()\n",
        "obj.track_object()"
      ],
      "metadata": {
        "colab": {
          "base_uri": "https://localhost:8080/"
        },
        "id": "1QEvFLXsaaTS",
        "outputId": "34a27183-4d01-4baf-fd4c-1840a570adac"
      },
      "execution_count": null,
      "outputs": [
        {
          "output_type": "stream",
          "name": "stdout",
          "text": [
            "Object created 3 times\n"
          ]
        }
      ]
    },
    {
      "cell_type": "markdown",
      "source": [
        "**3. Public Variables and Methods**"
      ],
      "metadata": {
        "id": "6-Xp0y54dHjM"
      }
    },
    {
      "cell_type": "code",
      "source": [
        "class Car:\n",
        "  def __init__(self):\n",
        "     self.brand = \"Rolls Royce\"\n",
        "\n",
        "  def start(self):\n",
        "    print(f\"{self.brand} started!\")\n",
        "\n",
        "car = Car()\n",
        "print(car.brand)\n",
        "car.start()"
      ],
      "metadata": {
        "colab": {
          "base_uri": "https://localhost:8080/"
        },
        "id": "BaNewIu5dKsD",
        "outputId": "6a25ca7b-9031-4681-fea1-c4f904025441"
      },
      "execution_count": null,
      "outputs": [
        {
          "output_type": "stream",
          "name": "stdout",
          "text": [
            "Rolls Royce\n",
            "Rolls Royce started!\n"
          ]
        }
      ]
    },
    {
      "cell_type": "markdown",
      "source": [
        "**4. Class Variables and Class Methods**"
      ],
      "metadata": {
        "id": "mTRfAQCjfkFM"
      }
    },
    {
      "cell_type": "code",
      "source": [
        "\n",
        "class Bank:\n",
        "  bank_name =\"Habib Bank\"\n",
        "  def __init__(self,name):\n",
        "     self.name = name\n",
        "     self.bank = Bank.bank_name\n",
        "\n",
        "  @classmethod\n",
        "  def change_bank_name(cls,name):\n",
        "     cls.bank_name = name\n",
        "\n",
        "acc1 = Bank(\"Alyan\")\n",
        "acc2 = Bank(\"Murtuza\")\n",
        "\n",
        "print(f\"Banks:\\n{acc1.bank_name}\\n{acc2.bank_name}\")\n",
        "\n",
        "acc1.change_bank_name(\"Allied Bank\")\n",
        "\n",
        "print(f\"\\nBanks:\\n{acc1.bank_name}\\n{acc2.bank_name}\")"
      ],
      "metadata": {
        "colab": {
          "base_uri": "https://localhost:8080/"
        },
        "id": "FpUC3NT6foBZ",
        "outputId": "357d9dcf-61a3-455b-b1f4-d4ba27289af1"
      },
      "execution_count": null,
      "outputs": [
        {
          "output_type": "stream",
          "name": "stdout",
          "text": [
            "Banks:\n",
            "Habib Bank\n",
            "Habib Bank\n",
            "\n",
            "Banks:\n",
            "Allied Bank\n",
            "Allied Bank\n"
          ]
        }
      ]
    },
    {
      "cell_type": "markdown",
      "source": [
        "5**. Static Variables and Static Methods**"
      ],
      "metadata": {
        "id": "TYxgpXOijJBJ"
      }
    },
    {
      "cell_type": "code",
      "source": [
        "class MathUtils:\n",
        "   @staticmethod\n",
        "   def add(a,b):\n",
        "     sum = a + b\n",
        "     return sum\n",
        "\n",
        "num = MathUtils()\n",
        "num.add(10,20)"
      ],
      "metadata": {
        "colab": {
          "base_uri": "https://localhost:8080/"
        },
        "id": "yD2X16uujKbT",
        "outputId": "9ea08fc5-4eec-4bee-bea3-43d94de95caa"
      },
      "execution_count": null,
      "outputs": [
        {
          "output_type": "execute_result",
          "data": {
            "text/plain": [
              "30"
            ]
          },
          "metadata": {},
          "execution_count": 12
        }
      ]
    },
    {
      "cell_type": "markdown",
      "source": [
        "**6. Constructors and Destructors**"
      ],
      "metadata": {
        "id": "T45qXLNqkA0p"
      }
    },
    {
      "cell_type": "code",
      "source": [
        "class Logger:\n",
        "   def __init__(self):\n",
        "     print(\"Constructor\")\n",
        "\n",
        "   def __del__(self):\n",
        "      print(\"Destructor\")\n",
        "\n",
        "\n",
        "log = Logger()\n",
        "del log"
      ],
      "metadata": {
        "colab": {
          "base_uri": "https://localhost:8080/"
        },
        "id": "6EgPpw8skEBp",
        "outputId": "9222f6ca-5662-4798-984a-3bc3581be537"
      },
      "execution_count": null,
      "outputs": [
        {
          "output_type": "stream",
          "name": "stdout",
          "text": [
            "Constructor\n",
            "Destructor\n"
          ]
        }
      ]
    },
    {
      "cell_type": "markdown",
      "source": [
        "**7. Access Modifiers: Public, Private, and Protected**"
      ],
      "metadata": {
        "id": "UmVaYRtjlgB7"
      }
    },
    {
      "cell_type": "code",
      "source": [
        "class Employee:\n",
        "   def __init__(self,name,salary,ssn):\n",
        "     self.name = name\n",
        "     self._salary = salary\n",
        "     self.__ssn = ssn\n",
        "\n",
        "\n",
        "alyan = Employee(\"Alyan\",35000,123456789)\n",
        "print(alyan.name)\n",
        "print(alyan.salary)\n",
        "print(alyan.ssn)"
      ],
      "metadata": {
        "colab": {
          "base_uri": "https://localhost:8080/",
          "height": 315
        },
        "id": "cNid9xC5ln2B",
        "outputId": "9b3db966-bad0-467f-b581-d60085cbacae"
      },
      "execution_count": null,
      "outputs": [
        {
          "output_type": "stream",
          "name": "stdout",
          "text": [
            "Alyan\n"
          ]
        },
        {
          "output_type": "error",
          "ename": "AttributeError",
          "evalue": "'Employee' object has no attribute 'salary'",
          "traceback": [
            "\u001b[0;31m---------------------------------------------------------------------------\u001b[0m",
            "\u001b[0;31mAttributeError\u001b[0m                            Traceback (most recent call last)",
            "\u001b[0;32m<ipython-input-15-bb105be70c05>\u001b[0m in \u001b[0;36m<cell line: 0>\u001b[0;34m()\u001b[0m\n\u001b[1;32m      8\u001b[0m \u001b[0malyan\u001b[0m \u001b[0;34m=\u001b[0m \u001b[0mEmployee\u001b[0m\u001b[0;34m(\u001b[0m\u001b[0;34m\"Alyan\"\u001b[0m\u001b[0;34m,\u001b[0m\u001b[0;36m35000\u001b[0m\u001b[0;34m,\u001b[0m\u001b[0;36m123456789\u001b[0m\u001b[0;34m)\u001b[0m\u001b[0;34m\u001b[0m\u001b[0;34m\u001b[0m\u001b[0m\n\u001b[1;32m      9\u001b[0m \u001b[0mprint\u001b[0m\u001b[0;34m(\u001b[0m\u001b[0malyan\u001b[0m\u001b[0;34m.\u001b[0m\u001b[0mname\u001b[0m\u001b[0;34m)\u001b[0m\u001b[0;34m\u001b[0m\u001b[0;34m\u001b[0m\u001b[0m\n\u001b[0;32m---> 10\u001b[0;31m \u001b[0mprint\u001b[0m\u001b[0;34m(\u001b[0m\u001b[0malyan\u001b[0m\u001b[0;34m.\u001b[0m\u001b[0msalary\u001b[0m\u001b[0;34m)\u001b[0m\u001b[0;34m\u001b[0m\u001b[0;34m\u001b[0m\u001b[0m\n\u001b[0m\u001b[1;32m     11\u001b[0m \u001b[0mprint\u001b[0m\u001b[0;34m(\u001b[0m\u001b[0malyan\u001b[0m\u001b[0;34m.\u001b[0m\u001b[0mssn\u001b[0m\u001b[0;34m)\u001b[0m\u001b[0;34m\u001b[0m\u001b[0;34m\u001b[0m\u001b[0m\n",
            "\u001b[0;31mAttributeError\u001b[0m: 'Employee' object has no attribute 'salary'"
          ]
        }
      ]
    },
    {
      "cell_type": "markdown",
      "source": [
        "**8. The super() Function**"
      ],
      "metadata": {
        "id": "sk4yR6EunO0T"
      }
    },
    {
      "cell_type": "code",
      "source": [
        "class Person:\n",
        "   def __init__(self,name):\n",
        "      self.name = name\n",
        "\n",
        "\n",
        "class Teacher(Person):\n",
        "   def __init__(self,name,subject):\n",
        "      super().__init__(name)\n",
        "      self.subject = subject\n",
        "\n",
        "   def teacher_details(self):\n",
        "     print(f\"Teacher name: {self.name}, subject: {self.subject}\")\n",
        "\n",
        "teacher = Teacher(\"Arif kasim\",\"Python\")\n",
        "teacher.teacher_details()"
      ],
      "metadata": {
        "colab": {
          "base_uri": "https://localhost:8080/"
        },
        "id": "_MsYIC6gnRuS",
        "outputId": "6636388c-2099-4024-de8b-199f70a07adc"
      },
      "execution_count": null,
      "outputs": [
        {
          "output_type": "stream",
          "name": "stdout",
          "text": [
            "Teacher name: Arif kasim, subject: Python\n"
          ]
        }
      ]
    },
    {
      "cell_type": "markdown",
      "source": [
        "**9. Abstract Classes and Methods**"
      ],
      "metadata": {
        "id": "NI3aEMKEqQIT"
      }
    },
    {
      "cell_type": "code",
      "source": [
        "from abc import ABC, abstractmethod\n",
        "\n",
        "class Shape(ABC):\n",
        "  @abstractmethod\n",
        "  def area(self,width,length):\n",
        "    pass\n",
        "\n",
        "class Rectangle(Shape):\n",
        "   def area(self,width,length):\n",
        "     print(width*length)\n",
        "\n",
        "rec = Rectangle()\n",
        "rec.area(40,25)"
      ],
      "metadata": {
        "colab": {
          "base_uri": "https://localhost:8080/"
        },
        "id": "rI73SSzsqa8S",
        "outputId": "a575c74e-abdb-41cb-dee5-706facfcc03f"
      },
      "execution_count": null,
      "outputs": [
        {
          "output_type": "stream",
          "name": "stdout",
          "text": [
            "1000\n"
          ]
        }
      ]
    },
    {
      "cell_type": "markdown",
      "source": [
        "10. Instance Methods"
      ],
      "metadata": {
        "id": "BgHENewW6Ar1"
      }
    },
    {
      "cell_type": "code",
      "source": [
        "class Dog:\n",
        "  def __init__(self,name,breed):\n",
        "    self.name=name,\n",
        "    self.breed=breed\n",
        "\n",
        "  def bark(self):\n",
        "     print(f\"{self.name} barks!\")\n",
        "\n",
        "dog=Dog(\"Tommy\",\"Huskey\")\n",
        "dog.bark()"
      ],
      "metadata": {
        "colab": {
          "base_uri": "https://localhost:8080/"
        },
        "id": "gh4YJWtP6Eqr",
        "outputId": "b996f291-87d5-4a57-c4ba-78c1795acb83"
      },
      "execution_count": null,
      "outputs": [
        {
          "output_type": "stream",
          "name": "stdout",
          "text": [
            "('Tommy',) barks!\n"
          ]
        }
      ]
    },
    {
      "cell_type": "markdown",
      "source": [
        "11. class Methods"
      ],
      "metadata": {
        "id": "cIMT1pWg78eh"
      }
    },
    {
      "cell_type": "code",
      "source": [
        "class book:\n",
        "  total_books = 0\n",
        "  def __init__(self):\n",
        "    book.increament_book_count()\n",
        "\n",
        "  @classmethod\n",
        "  def increament_book_count(cls):\n",
        "     cls.total_books+=1\n",
        "\n",
        "\n",
        "for my_book in range(5):\n",
        "   book()\n",
        "\n",
        "print(\"total books\",book.total_books,end=\" \")"
      ],
      "metadata": {
        "colab": {
          "base_uri": "https://localhost:8080/"
        },
        "id": "NARlGp0G7_pm",
        "outputId": "e2bed27d-dd5f-40a3-c9e8-808f1af697de"
      },
      "execution_count": null,
      "outputs": [
        {
          "output_type": "stream",
          "name": "stdout",
          "text": [
            "total books 5 "
          ]
        }
      ]
    },
    {
      "cell_type": "markdown",
      "source": [
        "12. Static Methods"
      ],
      "metadata": {
        "id": "S7NWgN8_-LEc"
      }
    },
    {
      "cell_type": "code",
      "source": [
        "class TemperatureConverter:\n",
        "  @staticmethod\n",
        "  def celsuis_to_fahrenheit(val):\n",
        "      celsius= (val * 9/5) + 32\n",
        "      print(f\"Temperature in Celsius is {celsius}\")\n",
        "\n",
        "\n",
        "conversion_1=TemperatureConverter()\n",
        "conversion_2=TemperatureConverter()\n",
        "\n",
        "conversion_1.celsuis_to_fahrenheit(33)\n",
        "conversion_2.celsuis_to_fahrenheit(21)"
      ],
      "metadata": {
        "colab": {
          "base_uri": "https://localhost:8080/"
        },
        "id": "AWn3m8ro-cID",
        "outputId": "ef9ff6b9-b822-4bc4-834b-22b0fe8dd6c2"
      },
      "execution_count": null,
      "outputs": [
        {
          "output_type": "stream",
          "name": "stdout",
          "text": [
            "Temperature in Celsius is 91.4\n",
            "Temperature in Celsius is 69.8\n"
          ]
        }
      ]
    },
    {
      "cell_type": "markdown",
      "source": [
        "13. Composition"
      ],
      "metadata": {
        "id": "z8ZpY5aUAKAv"
      }
    },
    {
      "cell_type": "code",
      "source": [
        "class Engine:\n",
        "   def __init__(self,name):\n",
        "    self.name = name\n",
        "\n",
        "class Car:\n",
        "   def __init__(self,name,model,engine):\n",
        "     self.name = name\n",
        "     self.model = model\n",
        "     self.engine = Engine(engine)\n",
        "\n",
        "   def car_info(self):\n",
        "     print(f'''\n",
        "    Car name = {self.name}\n",
        "    model = {self.model}\n",
        "    engine = {self.engine.name}\n",
        "     ''')\n",
        "\n",
        "car = Car(\"ford\", \"mustang\",\"V-engine\")\n",
        "car.car_info()\n"
      ],
      "metadata": {
        "id": "epmExO-GARB8",
        "colab": {
          "base_uri": "https://localhost:8080/"
        },
        "outputId": "72bab81b-1a3f-4a21-fc77-ec47675b473f"
      },
      "execution_count": null,
      "outputs": [
        {
          "output_type": "stream",
          "name": "stdout",
          "text": [
            "\n",
            "    Car name = ford\n",
            "    model = mustang\n",
            "    engine = V-engine\n",
            "     \n"
          ]
        }
      ]
    },
    {
      "cell_type": "markdown",
      "source": [
        "14. Aggregation"
      ],
      "metadata": {
        "id": "SbNgCkfo0GSM"
      }
    },
    {
      "cell_type": "code",
      "source": [
        "class Employee:\n",
        "   def __init__(self,name,age,salary):\n",
        "     self.name = name\n",
        "     self.age = age\n",
        "     self.salary = salary\n",
        "\n",
        "   def work(self):\n",
        "     print(\"Building ai gents\")\n",
        "\n",
        "\n",
        "class Department:\n",
        "  def __init__(self,name,employee_info):\n",
        "     self.name = name\n",
        "     self.employee_info = employee_info\n",
        "\n",
        "  def display(self):\n",
        "     print(f'''\n",
        "    Department name = {self.name}\n",
        "    Employee name = {self.employee_info.name}\n",
        "    age = {self.employee_info.age}\n",
        "    salary = {self.employee_info.salary}\n",
        "     ''')\n",
        "\n",
        "emp = Employee(\"Alyan\",20, 80000)\n",
        "dep = Department(\"Computer Science\",emp)\n",
        "\n",
        "dep.display()\n",
        "dep.employee_info.work()"
      ],
      "metadata": {
        "colab": {
          "base_uri": "https://localhost:8080/"
        },
        "id": "_yjy0huS0K25",
        "outputId": "b314cead-8831-4f5e-a0a4-9490f8438b2c"
      },
      "execution_count": null,
      "outputs": [
        {
          "output_type": "stream",
          "name": "stdout",
          "text": [
            "\n",
            "    Department name = Computer Science\n",
            "    Employee name = Alyan\n",
            "    age = 20\n",
            "    salary = 80000\n",
            "     \n",
            "Building ai gents\n"
          ]
        }
      ]
    },
    {
      "cell_type": "markdown",
      "source": [
        "15. Method Resolution Order (MRO) and Diamond Inheritance"
      ],
      "metadata": {
        "id": "yHPYBYhO3Nzb"
      }
    },
    {
      "cell_type": "code",
      "source": [
        "class A:\n",
        "   def show(self):\n",
        "     print(\"Class A\")\n",
        "\n",
        "class B(A):\n",
        "  def show(self):\n",
        "    print(\"Class B\")\n",
        "\n",
        "class C(A):\n",
        "  def show(self):\n",
        "     print(\"Class C\")\n",
        "\n",
        "class D(B,C):\n",
        "   pass\n",
        "\n",
        "obj = D()\n",
        "obj.show()"
      ],
      "metadata": {
        "colab": {
          "base_uri": "https://localhost:8080/"
        },
        "id": "depyCPiG3PFi",
        "outputId": "f308bc3e-1224-4d43-9b8c-b3ff93f0ca16"
      },
      "execution_count": null,
      "outputs": [
        {
          "output_type": "stream",
          "name": "stdout",
          "text": [
            "Class B\n"
          ]
        }
      ]
    },
    {
      "cell_type": "markdown",
      "source": [
        "16. Function Decorators"
      ],
      "metadata": {
        "id": "VEnx2oHrCkIz"
      }
    },
    {
      "cell_type": "code",
      "source": [
        "def log_function_call(func):\n",
        "   def wrapper():\n",
        "      print(\"function is being called\")\n",
        "      return func()\n",
        "   return wrapper\n",
        "\n",
        "\n",
        "@log_function_call\n",
        "def say_hello():\n",
        "   print(\"Hello\")\n",
        "\n",
        "say_hello()"
      ],
      "metadata": {
        "colab": {
          "base_uri": "https://localhost:8080/"
        },
        "id": "vi945r81CnY-",
        "outputId": "532c02ae-fe96-4ddb-9531-52ea06231577"
      },
      "execution_count": null,
      "outputs": [
        {
          "output_type": "stream",
          "name": "stdout",
          "text": [
            "function is being called\n",
            "Hello\n"
          ]
        }
      ]
    },
    {
      "cell_type": "markdown",
      "source": [
        "17. Class Decorators"
      ],
      "metadata": {
        "id": "-jE61qd-abkH"
      }
    },
    {
      "cell_type": "code",
      "source": [
        "def add_greeting(cls):\n",
        "   def greet(self):\n",
        "     print(\"Hello from decorator!\")\n",
        "\n",
        "   cls.greet = greet\n",
        "   return cls\n",
        "\n",
        "@add_greeting\n",
        "class Person:\n",
        "  def __init__(self,name):\n",
        "     self.name=name\n",
        "\n",
        "p = Person(\"Alyan\")\n",
        "p.greet()"
      ],
      "metadata": {
        "id": "gP6jK5kRaeJD",
        "colab": {
          "base_uri": "https://localhost:8080/"
        },
        "outputId": "98d1b5e9-1c6c-47b1-d05e-1f18b7e93f92"
      },
      "execution_count": null,
      "outputs": [
        {
          "output_type": "stream",
          "name": "stdout",
          "text": [
            "Hello from decorator!\n"
          ]
        }
      ]
    },
    {
      "cell_type": "markdown",
      "source": [
        "18. Property Decorators: @property, @setter, and @deleter"
      ],
      "metadata": {
        "id": "f2QsjHi-wFgp"
      }
    },
    {
      "cell_type": "code",
      "source": [
        "class Product:\n",
        "   def __init__(self,price):\n",
        "     self.__price = price\n",
        "\n",
        "   @property\n",
        "   def price(self):\n",
        "     return self.__price\n",
        "\n",
        "   @price.setter\n",
        "   def price(self,value):\n",
        "     self.__price = value\n",
        "\n",
        "   @price.deleter\n",
        "   def price(self):\n",
        "     print(\"object deleted\")\n",
        "     del self.__price\n",
        "\n",
        "\n",
        "jacket = Product(80)\n",
        "print(jacket.price)\n",
        "jacket.price = 100\n",
        "print(jacket.price)\n",
        "del jacket.price\n",
        ""
      ],
      "metadata": {
        "colab": {
          "base_uri": "https://localhost:8080/"
        },
        "id": "W4VNwjP-wHIg",
        "outputId": "9a00d8b0-df1c-430a-824c-791fb52337c4"
      },
      "execution_count": 21,
      "outputs": [
        {
          "output_type": "stream",
          "name": "stdout",
          "text": [
            "80\n",
            "100\n",
            "object deleted\n"
          ]
        }
      ]
    },
    {
      "cell_type": "markdown",
      "source": [
        "19. callable() and __call__()"
      ],
      "metadata": {
        "id": "V1WZwNHdqj4h"
      }
    },
    {
      "cell_type": "code",
      "source": [
        "class Multiplier:\n",
        "  def __init__(self,factor):\n",
        "    self.factor = factor\n",
        "\n",
        "  def __call__(self,arg):\n",
        "     return self.factor*arg\n",
        "\n",
        "multi = Multiplier(5)\n",
        "multi(10)"
      ],
      "metadata": {
        "colab": {
          "base_uri": "https://localhost:8080/"
        },
        "id": "h5IyoKfeqnyQ",
        "outputId": "733e0348-da44-469d-a9d8-80275900815f"
      },
      "execution_count": null,
      "outputs": [
        {
          "output_type": "execute_result",
          "data": {
            "text/plain": [
              "50"
            ]
          },
          "metadata": {},
          "execution_count": 48
        }
      ]
    },
    {
      "cell_type": "markdown",
      "source": [
        "20. Creating a Custom Exception"
      ],
      "metadata": {
        "id": "g1efuKx3tyuc"
      }
    },
    {
      "cell_type": "code",
      "source": [
        "class InvalidAgeError(Exception):\n",
        "   pass\n",
        "\n",
        "def check_age(age):\n",
        "   try:\n",
        "     if age < 18:\n",
        "       raise InvalidAgeError(\"Your age is smaller than 18\")\n",
        "   except InvalidAgeError as e:\n",
        "     print(e)\n",
        "   else:\n",
        "     print(\"Your age is valid\")\n",
        "\n",
        "check_age(20)\n",
        "\n"
      ],
      "metadata": {
        "colab": {
          "base_uri": "https://localhost:8080/"
        },
        "id": "U5IjkYQ9t1E4",
        "outputId": "afdb9dca-248f-4e9d-f954-40533afa04d9"
      },
      "execution_count": null,
      "outputs": [
        {
          "output_type": "stream",
          "name": "stdout",
          "text": [
            "Your age is valid\n"
          ]
        }
      ]
    },
    {
      "cell_type": "markdown",
      "source": [
        "21. Make a Custom Class Iterable"
      ],
      "metadata": {
        "id": "maITGOEaonB3"
      }
    },
    {
      "cell_type": "code",
      "source": [
        "class Countdown:\n",
        "   def __init__(self,value):\n",
        "     self.current = value\n",
        "\n",
        "   def __iter__(self):\n",
        "     return self\n",
        "\n",
        "   def __next__(self):\n",
        "     if self.current < 0:\n",
        "       raise StopIteration\n",
        "     else:\n",
        "       num = self.current\n",
        "       self.current-=1\n",
        "       return num\n",
        "\n",
        "\n",
        "for i in Countdown(10):\n",
        "   print(i)"
      ],
      "metadata": {
        "colab": {
          "base_uri": "https://localhost:8080/"
        },
        "id": "_4SsZEBYooFl",
        "outputId": "52eb2211-99cd-47a2-98f5-d1fa19308349"
      },
      "execution_count": null,
      "outputs": [
        {
          "output_type": "stream",
          "name": "stdout",
          "text": [
            "10\n",
            "9\n",
            "8\n",
            "7\n",
            "6\n",
            "5\n",
            "4\n",
            "3\n",
            "2\n",
            "1\n",
            "0\n"
          ]
        }
      ]
    }
  ]
}